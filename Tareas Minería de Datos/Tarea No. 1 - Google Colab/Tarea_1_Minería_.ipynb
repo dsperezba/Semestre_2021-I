{
  "nbformat": 4,
  "nbformat_minor": 0,
  "metadata": {
    "colab": {
      "name": "Tarea 1 - Minería .ipynb",
      "provenance": []
    },
    "kernelspec": {
      "name": "python3",
      "display_name": "Python 3"
    },
    "accelerator": "TPU"
  },
  "cells": [
    {
      "cell_type": "markdown",
      "metadata": {
        "id": "0bULlb0x5A-2"
      },
      "source": [
        "# Tarea No. 1 - David Santiago Pérez Barrios"
      ]
    },
    {
      "cell_type": "markdown",
      "metadata": {
        "id": "ktZ5hVTxOn92"
      },
      "source": [
        "# Función para leer el set de datos\r\n"
      ]
    },
    {
      "cell_type": "code",
      "metadata": {
        "id": "Mf2ckKm55MED"
      },
      "source": [
        "import numpy as np\r\n",
        "import os\r\n",
        "import gzip\r\n",
        "\r\n",
        "def cargar_set(ruta, tipo='train'):\r\n",
        "\r\n",
        "  ruta_categorias = os.path.join(ruta, '%s-labels-idx1-ubyte.gz' %tipo)\r\n",
        "  ruta_imagenes = os.path.join(ruta, '%s-images-idx3-ubyte.gz' %tipo)\r\n",
        "\r\n",
        "  with gzip.open(ruta_categorias, 'rb') as rut_cat:\r\n",
        "    etiquetas = np.frombuffer(rut_cat.read(), dtype=np.uint8, offset=8)\r\n",
        "\r\n",
        "  with gzip.open(ruta_imagenes, 'rb') as rut_imgs:\r\n",
        "    imagenes = np.frombuffer(rut_imgs.read(), dtype=np.uint8, offset=16).reshape(len(etiquetas),784)\r\n",
        "\r\n",
        "  return imagenes, etiquetas"
      ],
      "execution_count": null,
      "outputs": []
    },
    {
      "cell_type": "markdown",
      "metadata": {
        "id": "05NPBrmk6vfg"
      },
      "source": [
        "# Acceso a Google Drive"
      ]
    },
    {
      "cell_type": "code",
      "metadata": {
        "colab": {
          "base_uri": "https://localhost:8080/"
        },
        "id": "TrGptZtL6yXn",
        "outputId": "38df78d0-2d82-475c-b886-8be618e0e48d"
      },
      "source": [
        "from google.colab import drive\r\n",
        "drive.mount('/content/gdrive')\r\n",
        "\r\n",
        "ruta = 'gdrive/MyDrive/Colab Notebooks/fashion_mnist_data'\r\n",
        "\r\n",
        "X_train, Y_train = cargar_set(ruta, tipo='train')\r\n",
        "X_test, Y_test = cargar_set(ruta, tipo='test')\r\n"
      ],
      "execution_count": null,
      "outputs": [
        {
          "output_type": "stream",
          "text": [
            "Mounted at /content/gdrive\n"
          ],
          "name": "stdout"
        }
      ]
    },
    {
      "cell_type": "markdown",
      "metadata": {
        "id": "evhViMqR8TPL"
      },
      "source": [
        "# Reajustar el tamaño de los datos"
      ]
    },
    {
      "cell_type": "code",
      "metadata": {
        "id": "mO3hM09u8V5y"
      },
      "source": [
        "X_train = X_train[0:59904,:]\r\n",
        "X_test = X_test[0:9984,:]\r\n",
        "Y_train = Y_train[0:59904]\r\n",
        "Y_test = Y_test[0:9984]\r\n",
        "\r\n",
        "X_train = np.reshape(X_train, (59904,28,28,1))\r\n",
        "X_test = np.reshape(X_test, (9984,28,28,1))"
      ],
      "execution_count": null,
      "outputs": []
    },
    {
      "cell_type": "markdown",
      "metadata": {
        "id": "dNIQkGpF_oC1"
      },
      "source": [
        "# Importar Tensorflow 2 (ya incluye Keras)"
      ]
    },
    {
      "cell_type": "code",
      "metadata": {
        "id": "CZrCQNmw_tpj",
        "colab": {
          "base_uri": "https://localhost:8080/"
        },
        "outputId": "33f51bb1-1593-4168-94f3-7f9da5a936ed"
      },
      "source": [
        "%tensorflow_version 2.x\r\n",
        "import tensorflow as tf\r\n",
        "\r\n",
        "print('Versión de Tensorflow: ' + tf.__version__)"
      ],
      "execution_count": null,
      "outputs": [
        {
          "output_type": "stream",
          "text": [
            "Versión de Tensorflow: 2.4.1\n"
          ],
          "name": "stdout"
        }
      ]
    },
    {
      "cell_type": "markdown",
      "metadata": {
        "id": "NfXUW77xNyNp"
      },
      "source": [
        "# Creación del Modelo"
      ]
    },
    {
      "cell_type": "code",
      "metadata": {
        "colab": {
          "base_uri": "https://localhost:8080/"
        },
        "id": "rGiWaBgmN1Mq",
        "outputId": "212d26d4-c9cb-41f8-8cc5-f8b528e1d49e"
      },
      "source": [
        "tf.random.set_seed(200)\r\n",
        "\r\n",
        "modelo = tf.keras.models.Sequential()\r\n",
        "\r\n",
        "modelo.add(tf.keras.layers.BatchNormalization(input_shape=X_train.shape[1:]))\r\n",
        "modelo.add(tf.keras.layers.Conv2D(64, (5,5), padding='same', activation='elu'))\r\n",
        "modelo.add(tf.keras.layers.MaxPooling2D(pool_size=(2,2), strides=(2,2)))\r\n",
        "modelo.add(tf.keras.layers.Dropout(0.25))\r\n",
        "\r\n",
        "modelo.add(tf.keras.layers.BatchNormalization(input_shape=X_train.shape[1:]))\r\n",
        "modelo.add(tf.keras.layers.Conv2D(128, (5,5), padding='same', activation='elu'))\r\n",
        "modelo.add(tf.keras.layers.MaxPooling2D(pool_size=(2,2), strides=(2,2)))\r\n",
        "modelo.add(tf.keras.layers.Dropout(0.25))\r\n",
        "\r\n",
        "modelo.add(tf.keras.layers.BatchNormalization(input_shape=X_train.shape[1:]))\r\n",
        "modelo.add(tf.keras.layers.Conv2D(256, (5,5), padding='same', activation='elu'))\r\n",
        "modelo.add(tf.keras.layers.MaxPooling2D(pool_size=(2,2), strides=(2,2)))\r\n",
        "modelo.add(tf.keras.layers.Dropout(0.25))\r\n",
        "\r\n",
        "modelo.add(tf.keras.layers.Flatten())\r\n",
        "modelo.add(tf.keras.layers.Dense(256))\r\n",
        "modelo.add(tf.keras.layers.Activation('elu'))\r\n",
        "modelo.add(tf.keras.layers.Dropout(0.5))\r\n",
        "modelo.add(tf.keras.layers.Dense(10))\r\n",
        "modelo.add(tf.keras.layers.Activation('softmax'))\r\n",
        "\r\n",
        "# Imprimir en pantalla información del modelo\r\n",
        "modelo.summary()"
      ],
      "execution_count": null,
      "outputs": [
        {
          "output_type": "stream",
          "text": [
            "Model: \"sequential\"\n",
            "_________________________________________________________________\n",
            "Layer (type)                 Output Shape              Param #   \n",
            "=================================================================\n",
            "batch_normalization (BatchNo (None, 28, 28, 1)         4         \n",
            "_________________________________________________________________\n",
            "conv2d (Conv2D)              (None, 28, 28, 64)        1664      \n",
            "_________________________________________________________________\n",
            "max_pooling2d (MaxPooling2D) (None, 14, 14, 64)        0         \n",
            "_________________________________________________________________\n",
            "dropout (Dropout)            (None, 14, 14, 64)        0         \n",
            "_________________________________________________________________\n",
            "batch_normalization_1 (Batch (None, 14, 14, 64)        256       \n",
            "_________________________________________________________________\n",
            "conv2d_1 (Conv2D)            (None, 14, 14, 128)       204928    \n",
            "_________________________________________________________________\n",
            "max_pooling2d_1 (MaxPooling2 (None, 7, 7, 128)         0         \n",
            "_________________________________________________________________\n",
            "dropout_1 (Dropout)          (None, 7, 7, 128)         0         \n",
            "_________________________________________________________________\n",
            "batch_normalization_2 (Batch (None, 7, 7, 128)         512       \n",
            "_________________________________________________________________\n",
            "conv2d_2 (Conv2D)            (None, 7, 7, 256)         819456    \n",
            "_________________________________________________________________\n",
            "max_pooling2d_2 (MaxPooling2 (None, 3, 3, 256)         0         \n",
            "_________________________________________________________________\n",
            "dropout_2 (Dropout)          (None, 3, 3, 256)         0         \n",
            "_________________________________________________________________\n",
            "flatten (Flatten)            (None, 2304)              0         \n",
            "_________________________________________________________________\n",
            "dense (Dense)                (None, 256)               590080    \n",
            "_________________________________________________________________\n",
            "activation (Activation)      (None, 256)               0         \n",
            "_________________________________________________________________\n",
            "dropout_3 (Dropout)          (None, 256)               0         \n",
            "_________________________________________________________________\n",
            "dense_1 (Dense)              (None, 10)                2570      \n",
            "_________________________________________________________________\n",
            "activation_1 (Activation)    (None, 10)                0         \n",
            "=================================================================\n",
            "Total params: 1,619,470\n",
            "Trainable params: 1,619,084\n",
            "Non-trainable params: 386\n",
            "_________________________________________________________________\n"
          ],
          "name": "stdout"
        }
      ]
    },
    {
      "cell_type": "markdown",
      "metadata": {
        "id": "BmtBrtwThQk8"
      },
      "source": [
        "## Entrenamiento con CPU"
      ]
    },
    {
      "cell_type": "code",
      "metadata": {
        "id": "kfDuXW1EhTC3"
      },
      "source": [
        "modelo.compile(optimizer='adam', loss='sparse_categorical_crossentropy', metrics=['accuracy'])"
      ],
      "execution_count": null,
      "outputs": []
    },
    {
      "cell_type": "code",
      "metadata": {
        "colab": {
          "base_uri": "https://localhost:8080/",
          "height": 1000
        },
        "id": "1WDPTVbRlIfv",
        "outputId": "ade633a9-055e-4adf-ce98-d594fea04777"
      },
      "source": [
        "import timeit\r\n",
        "\r\n",
        "def entrenamiento_cpu():\r\n",
        "  with tf.device('/cpu:0'):\r\n",
        "    modelo.fit(X_train, Y_train, validation_data=(X_test, Y_test), batch_size=128,epochs=2,verbose=1)\r\n",
        "\r\n",
        "  return None\r\n",
        "\r\n",
        "cpu_time = timeit.timeit('entrenamiento_cpu()', number=1, setup='from __main__ import entrenamiento_cpu')"
      ],
      "execution_count": null,
      "outputs": [
        {
          "output_type": "stream",
          "text": [
            "Epoch 1/2\n",
            " 13/468 [..............................] - ETA: 11:37 - loss: 3.5317 - accuracy: 0.3110"
          ],
          "name": "stdout"
        },
        {
          "output_type": "stream",
          "text": [
            "ERROR:root:Internal Python error in the inspect module.\n",
            "Below is the traceback from this internal error.\n",
            "\n"
          ],
          "name": "stderr"
        },
        {
          "output_type": "stream",
          "text": [
            "Traceback (most recent call last):\n",
            "  File \"/usr/local/lib/python3.7/dist-packages/IPython/core/interactiveshell.py\", line 2882, in run_code\n",
            "    exec(code_obj, self.user_global_ns, self.user_ns)\n",
            "  File \"<ipython-input-8-61d8913607ec>\", line 9, in <module>\n",
            "    cpu_time = timeit.timeit('entrenamiento_cpu()', number=1, setup='from __main__ import entrenamiento_cpu')\n",
            "  File \"/usr/lib/python3.7/timeit.py\", line 233, in timeit\n",
            "    return Timer(stmt, setup, timer, globals).timeit(number)\n",
            "  File \"/usr/lib/python3.7/timeit.py\", line 177, in timeit\n",
            "    timing = self.inner(it, self.timer)\n",
            "  File \"<timeit-src>\", line 6, in inner\n",
            "  File \"<ipython-input-8-61d8913607ec>\", line 5, in entrenamiento_cpu\n",
            "    modelo.fit(X_train, Y_train, validation_data=(X_test, Y_test), batch_size=128,epochs=2,verbose=1)\n",
            "  File \"/usr/local/lib/python3.7/dist-packages/tensorflow/python/keras/engine/training.py\", line 1100, in fit\n",
            "    tmp_logs = self.train_function(iterator)\n",
            "  File \"/usr/local/lib/python3.7/dist-packages/tensorflow/python/eager/def_function.py\", line 828, in __call__\n",
            "    result = self._call(*args, **kwds)\n",
            "  File \"/usr/local/lib/python3.7/dist-packages/tensorflow/python/eager/def_function.py\", line 855, in _call\n",
            "    return self._stateless_fn(*args, **kwds)  # pylint: disable=not-callable\n",
            "  File \"/usr/local/lib/python3.7/dist-packages/tensorflow/python/eager/function.py\", line 2943, in __call__\n",
            "    filtered_flat_args, captured_inputs=graph_function.captured_inputs)  # pylint: disable=protected-access\n",
            "  File \"/usr/local/lib/python3.7/dist-packages/tensorflow/python/eager/function.py\", line 1919, in _call_flat\n",
            "    ctx, args, cancellation_manager=cancellation_manager))\n",
            "  File \"/usr/local/lib/python3.7/dist-packages/tensorflow/python/eager/function.py\", line 560, in call\n",
            "    ctx=ctx)\n",
            "  File \"/usr/local/lib/python3.7/dist-packages/tensorflow/python/eager/execute.py\", line 60, in quick_execute\n",
            "    inputs, attrs, num_outputs)\n",
            "KeyboardInterrupt\n",
            "\n",
            "During handling of the above exception, another exception occurred:\n",
            "\n",
            "Traceback (most recent call last):\n",
            "  File \"/usr/local/lib/python3.7/dist-packages/IPython/core/interactiveshell.py\", line 1823, in showtraceback\n",
            "    stb = value._render_traceback_()\n",
            "AttributeError: 'KeyboardInterrupt' object has no attribute '_render_traceback_'\n",
            "\n",
            "During handling of the above exception, another exception occurred:\n",
            "\n",
            "Traceback (most recent call last):\n",
            "  File \"/usr/local/lib/python3.7/dist-packages/IPython/core/ultratb.py\", line 1132, in get_records\n",
            "    return _fixed_getinnerframes(etb, number_of_lines_of_context, tb_offset)\n",
            "  File \"/usr/local/lib/python3.7/dist-packages/IPython/core/ultratb.py\", line 313, in wrapped\n",
            "    return f(*args, **kwargs)\n",
            "  File \"/usr/local/lib/python3.7/dist-packages/IPython/core/ultratb.py\", line 358, in _fixed_getinnerframes\n",
            "    records = fix_frame_records_filenames(inspect.getinnerframes(etb, context))\n",
            "  File \"/usr/lib/python3.7/inspect.py\", line 1502, in getinnerframes\n",
            "    frameinfo = (tb.tb_frame,) + getframeinfo(tb, context)\n",
            "  File \"/usr/lib/python3.7/inspect.py\", line 1464, in getframeinfo\n",
            "    lines, lnum = findsource(frame)\n",
            "  File \"/usr/local/lib/python3.7/dist-packages/IPython/core/ultratb.py\", line 182, in findsource\n",
            "    lines = linecache.getlines(file, globals_dict)\n",
            "  File \"/usr/lib/python3.7/linecache.py\", line 47, in getlines\n",
            "    return updatecache(filename, module_globals)\n",
            "  File \"/usr/lib/python3.7/linecache.py\", line 137, in updatecache\n",
            "    lines = fp.readlines()\n",
            "  File \"/usr/lib/python3.7/codecs.py\", line 319, in decode\n",
            "    def decode(self, input, final=False):\n",
            "KeyboardInterrupt\n"
          ],
          "name": "stdout"
        },
        {
          "output_type": "error",
          "ename": "KeyboardInterrupt",
          "evalue": "ignored",
          "traceback": [
            "\u001b[0;31m---------------------------------------------------------------------------\u001b[0m"
          ]
        }
      ]
    },
    {
      "cell_type": "code",
      "metadata": {
        "id": "OZzYKvJ7l3Fk"
      },
      "source": [
        "print('Tiempo de entrenamiento ' + str(cpu_time) + ' segundos')"
      ],
      "execution_count": null,
      "outputs": []
    },
    {
      "cell_type": "markdown",
      "metadata": {
        "id": "uzY-9gcBDEQ_"
      },
      "source": [
        "# Verificar la disponibilidad de la GPU"
      ]
    },
    {
      "cell_type": "code",
      "metadata": {
        "colab": {
          "base_uri": "https://localhost:8080/",
          "height": 214
        },
        "id": "KzIE23t4DId3",
        "outputId": "44475ae1-49e7-422b-ff66-b4592d9173ab"
      },
      "source": [
        "nombre_gpu = tf.test.gpu_device_name()\r\n",
        "if nombre_gpu != '/device:GPU:0':\r\n",
        "  raise SystemError('GPU no encontrada')\r\n",
        "print('GPU encontrada: {}'.format(nombre_gpu))"
      ],
      "execution_count": null,
      "outputs": [
        {
          "output_type": "error",
          "ename": "SystemError",
          "evalue": "ignored",
          "traceback": [
            "\u001b[0;31m---------------------------------------------------------------------------\u001b[0m",
            "\u001b[0;31mSystemError\u001b[0m                               Traceback (most recent call last)",
            "\u001b[0;32m<ipython-input-9-a486543d3c9b>\u001b[0m in \u001b[0;36m<module>\u001b[0;34m()\u001b[0m\n\u001b[1;32m      1\u001b[0m \u001b[0mnombre_gpu\u001b[0m \u001b[0;34m=\u001b[0m \u001b[0mtf\u001b[0m\u001b[0;34m.\u001b[0m\u001b[0mtest\u001b[0m\u001b[0;34m.\u001b[0m\u001b[0mgpu_device_name\u001b[0m\u001b[0;34m(\u001b[0m\u001b[0;34m)\u001b[0m\u001b[0;34m\u001b[0m\u001b[0;34m\u001b[0m\u001b[0m\n\u001b[1;32m      2\u001b[0m \u001b[0;32mif\u001b[0m \u001b[0mnombre_gpu\u001b[0m \u001b[0;34m!=\u001b[0m \u001b[0;34m'/device:GPU:0'\u001b[0m\u001b[0;34m:\u001b[0m\u001b[0;34m\u001b[0m\u001b[0;34m\u001b[0m\u001b[0m\n\u001b[0;32m----> 3\u001b[0;31m   \u001b[0;32mraise\u001b[0m \u001b[0mSystemError\u001b[0m\u001b[0;34m(\u001b[0m\u001b[0;34m'GPU no encontrada'\u001b[0m\u001b[0;34m)\u001b[0m\u001b[0;34m\u001b[0m\u001b[0;34m\u001b[0m\u001b[0m\n\u001b[0m\u001b[1;32m      4\u001b[0m \u001b[0mprint\u001b[0m\u001b[0;34m(\u001b[0m\u001b[0;34m'GPU encontrada: {}'\u001b[0m\u001b[0;34m.\u001b[0m\u001b[0mformat\u001b[0m\u001b[0;34m(\u001b[0m\u001b[0mnombre_gpu\u001b[0m\u001b[0;34m)\u001b[0m\u001b[0;34m)\u001b[0m\u001b[0;34m\u001b[0m\u001b[0;34m\u001b[0m\u001b[0m\n",
            "\u001b[0;31mSystemError\u001b[0m: GPU no encontrada"
          ]
        }
      ]
    },
    {
      "cell_type": "markdown",
      "metadata": {
        "id": "rsOu0TkBEloR"
      },
      "source": [
        "# Entrenamiento con GPU"
      ]
    },
    {
      "cell_type": "code",
      "metadata": {
        "id": "TMcrSmlqFEc5"
      },
      "source": [
        "modelo.compile(optimizer='adam', loss='sparse_categorical_crossentropy', metrics=['accuracy'])"
      ],
      "execution_count": null,
      "outputs": []
    },
    {
      "cell_type": "code",
      "metadata": {
        "colab": {
          "base_uri": "https://localhost:8080/"
        },
        "id": "sqqoqZMvEnyN",
        "outputId": "244cf93a-be0a-4f89-a115-e6224f53fc7b"
      },
      "source": [
        "import timeit\r\n",
        "\r\n",
        "def entrenamiento_gpu():\r\n",
        "  with tf.device('/device:GPU:0'):\r\n",
        "    modelo.fit(X_train, Y_train, validation_data=(X_test, Y_test), batch_size=128,epochs=2,verbose=1)\r\n",
        "\r\n",
        "  return None\r\n",
        "\r\n",
        "gpu_time = timeit.timeit('entrenamiento_gpu()', number=1, setup='from __main__ import entrenamiento_gpu')"
      ],
      "execution_count": null,
      "outputs": [
        {
          "output_type": "stream",
          "text": [
            "Epoch 1/2\n",
            "468/468 [==============================] - 7s 16ms/step - loss: 0.2961 - accuracy: 0.8937 - val_loss: 0.2633 - val_accuracy: 0.9048\n",
            "Epoch 2/2\n",
            "468/468 [==============================] - 7s 15ms/step - loss: 0.2589 - accuracy: 0.9050 - val_loss: 0.2591 - val_accuracy: 0.9099\n"
          ],
          "name": "stdout"
        }
      ]
    },
    {
      "cell_type": "code",
      "metadata": {
        "colab": {
          "base_uri": "https://localhost:8080/"
        },
        "id": "jvGe0jsrFMLi",
        "outputId": "881dab90-45cd-4ebc-f3de-3151851b0797"
      },
      "source": [
        "print('Tiempo de entrenamiento ' + str(gpu_time) + ' segundos')"
      ],
      "execution_count": null,
      "outputs": [
        {
          "output_type": "stream",
          "text": [
            "Tiempo de entrenamiento 14.487471761000052 segundos\n"
          ],
          "name": "stdout"
        }
      ]
    },
    {
      "cell_type": "markdown",
      "metadata": {
        "id": "KkLn3evTFS_a"
      },
      "source": [
        "# Se configura la TPU"
      ]
    },
    {
      "cell_type": "code",
      "metadata": {
        "colab": {
          "base_uri": "https://localhost:8080/"
        },
        "id": "iQnjdC7qFc9p",
        "outputId": "4c23f879-da9c-432d-e2e9-0a5f693d26a1"
      },
      "source": [
        "try:\r\n",
        "  tpu = tf.distribute.cluster_resolver.TPUClusterResolver(tpu='grpc://' + os.environ['COLAB_TPU_ADDR'])\r\n",
        "  print('TPU encontrada ', tpu.cluster_spec().as_dict()['worker'])\r\n",
        "except ValueError:\r\n",
        "  raise BaseException('ERROR: TPU no encontrada')\r\n",
        "\r\n",
        "tf.config.experimental_connect_to_cluster(tpu)\r\n",
        "tf.tpu.experimental.initialize_tpu_system(tpu)\r\n",
        "tpu_strategy = tf.distribute.experimental.TPUStrategy(tpu)"
      ],
      "execution_count": null,
      "outputs": [
        {
          "output_type": "stream",
          "text": [
            "TPU encontrada  ['10.111.148.250:8470']\n",
            "INFO:tensorflow:Initializing the TPU system: grpc://10.111.148.250:8470\n"
          ],
          "name": "stdout"
        },
        {
          "output_type": "stream",
          "text": [
            "INFO:tensorflow:Initializing the TPU system: grpc://10.111.148.250:8470\n"
          ],
          "name": "stderr"
        },
        {
          "output_type": "stream",
          "text": [
            "INFO:tensorflow:Clearing out eager caches\n"
          ],
          "name": "stdout"
        },
        {
          "output_type": "stream",
          "text": [
            "INFO:tensorflow:Clearing out eager caches\n"
          ],
          "name": "stderr"
        },
        {
          "output_type": "stream",
          "text": [
            "INFO:tensorflow:Finished initializing TPU system.\n"
          ],
          "name": "stdout"
        },
        {
          "output_type": "stream",
          "text": [
            "INFO:tensorflow:Finished initializing TPU system.\n",
            "WARNING:absl:`tf.distribute.experimental.TPUStrategy` is deprecated, please use  the non experimental symbol `tf.distribute.TPUStrategy` instead.\n"
          ],
          "name": "stderr"
        },
        {
          "output_type": "stream",
          "text": [
            "INFO:tensorflow:Found TPU system:\n"
          ],
          "name": "stdout"
        },
        {
          "output_type": "stream",
          "text": [
            "INFO:tensorflow:Found TPU system:\n"
          ],
          "name": "stderr"
        },
        {
          "output_type": "stream",
          "text": [
            "INFO:tensorflow:*** Num TPU Cores: 8\n"
          ],
          "name": "stdout"
        },
        {
          "output_type": "stream",
          "text": [
            "INFO:tensorflow:*** Num TPU Cores: 8\n"
          ],
          "name": "stderr"
        },
        {
          "output_type": "stream",
          "text": [
            "INFO:tensorflow:*** Num TPU Workers: 1\n"
          ],
          "name": "stdout"
        },
        {
          "output_type": "stream",
          "text": [
            "INFO:tensorflow:*** Num TPU Workers: 1\n"
          ],
          "name": "stderr"
        },
        {
          "output_type": "stream",
          "text": [
            "INFO:tensorflow:*** Num TPU Cores Per Worker: 8\n"
          ],
          "name": "stdout"
        },
        {
          "output_type": "stream",
          "text": [
            "INFO:tensorflow:*** Num TPU Cores Per Worker: 8\n"
          ],
          "name": "stderr"
        },
        {
          "output_type": "stream",
          "text": [
            "INFO:tensorflow:*** Available Device: _DeviceAttributes(/job:localhost/replica:0/task:0/device:CPU:0, CPU, 0, 0)\n"
          ],
          "name": "stdout"
        },
        {
          "output_type": "stream",
          "text": [
            "INFO:tensorflow:*** Available Device: _DeviceAttributes(/job:localhost/replica:0/task:0/device:CPU:0, CPU, 0, 0)\n"
          ],
          "name": "stderr"
        },
        {
          "output_type": "stream",
          "text": [
            "INFO:tensorflow:*** Available Device: _DeviceAttributes(/job:worker/replica:0/task:0/device:CPU:0, CPU, 0, 0)\n"
          ],
          "name": "stdout"
        },
        {
          "output_type": "stream",
          "text": [
            "INFO:tensorflow:*** Available Device: _DeviceAttributes(/job:worker/replica:0/task:0/device:CPU:0, CPU, 0, 0)\n"
          ],
          "name": "stderr"
        },
        {
          "output_type": "stream",
          "text": [
            "INFO:tensorflow:*** Available Device: _DeviceAttributes(/job:worker/replica:0/task:0/device:TPU:0, TPU, 0, 0)\n"
          ],
          "name": "stdout"
        },
        {
          "output_type": "stream",
          "text": [
            "INFO:tensorflow:*** Available Device: _DeviceAttributes(/job:worker/replica:0/task:0/device:TPU:0, TPU, 0, 0)\n"
          ],
          "name": "stderr"
        },
        {
          "output_type": "stream",
          "text": [
            "INFO:tensorflow:*** Available Device: _DeviceAttributes(/job:worker/replica:0/task:0/device:TPU:1, TPU, 0, 0)\n"
          ],
          "name": "stdout"
        },
        {
          "output_type": "stream",
          "text": [
            "INFO:tensorflow:*** Available Device: _DeviceAttributes(/job:worker/replica:0/task:0/device:TPU:1, TPU, 0, 0)\n"
          ],
          "name": "stderr"
        },
        {
          "output_type": "stream",
          "text": [
            "INFO:tensorflow:*** Available Device: _DeviceAttributes(/job:worker/replica:0/task:0/device:TPU:2, TPU, 0, 0)\n"
          ],
          "name": "stdout"
        },
        {
          "output_type": "stream",
          "text": [
            "INFO:tensorflow:*** Available Device: _DeviceAttributes(/job:worker/replica:0/task:0/device:TPU:2, TPU, 0, 0)\n"
          ],
          "name": "stderr"
        },
        {
          "output_type": "stream",
          "text": [
            "INFO:tensorflow:*** Available Device: _DeviceAttributes(/job:worker/replica:0/task:0/device:TPU:3, TPU, 0, 0)\n"
          ],
          "name": "stdout"
        },
        {
          "output_type": "stream",
          "text": [
            "INFO:tensorflow:*** Available Device: _DeviceAttributes(/job:worker/replica:0/task:0/device:TPU:3, TPU, 0, 0)\n"
          ],
          "name": "stderr"
        },
        {
          "output_type": "stream",
          "text": [
            "INFO:tensorflow:*** Available Device: _DeviceAttributes(/job:worker/replica:0/task:0/device:TPU:4, TPU, 0, 0)\n"
          ],
          "name": "stdout"
        },
        {
          "output_type": "stream",
          "text": [
            "INFO:tensorflow:*** Available Device: _DeviceAttributes(/job:worker/replica:0/task:0/device:TPU:4, TPU, 0, 0)\n"
          ],
          "name": "stderr"
        },
        {
          "output_type": "stream",
          "text": [
            "INFO:tensorflow:*** Available Device: _DeviceAttributes(/job:worker/replica:0/task:0/device:TPU:5, TPU, 0, 0)\n"
          ],
          "name": "stdout"
        },
        {
          "output_type": "stream",
          "text": [
            "INFO:tensorflow:*** Available Device: _DeviceAttributes(/job:worker/replica:0/task:0/device:TPU:5, TPU, 0, 0)\n"
          ],
          "name": "stderr"
        },
        {
          "output_type": "stream",
          "text": [
            "INFO:tensorflow:*** Available Device: _DeviceAttributes(/job:worker/replica:0/task:0/device:TPU:6, TPU, 0, 0)\n"
          ],
          "name": "stdout"
        },
        {
          "output_type": "stream",
          "text": [
            "INFO:tensorflow:*** Available Device: _DeviceAttributes(/job:worker/replica:0/task:0/device:TPU:6, TPU, 0, 0)\n"
          ],
          "name": "stderr"
        },
        {
          "output_type": "stream",
          "text": [
            "INFO:tensorflow:*** Available Device: _DeviceAttributes(/job:worker/replica:0/task:0/device:TPU:7, TPU, 0, 0)\n"
          ],
          "name": "stdout"
        },
        {
          "output_type": "stream",
          "text": [
            "INFO:tensorflow:*** Available Device: _DeviceAttributes(/job:worker/replica:0/task:0/device:TPU:7, TPU, 0, 0)\n"
          ],
          "name": "stderr"
        },
        {
          "output_type": "stream",
          "text": [
            "INFO:tensorflow:*** Available Device: _DeviceAttributes(/job:worker/replica:0/task:0/device:TPU_SYSTEM:0, TPU_SYSTEM, 0, 0)\n"
          ],
          "name": "stdout"
        },
        {
          "output_type": "stream",
          "text": [
            "INFO:tensorflow:*** Available Device: _DeviceAttributes(/job:worker/replica:0/task:0/device:TPU_SYSTEM:0, TPU_SYSTEM, 0, 0)\n"
          ],
          "name": "stderr"
        },
        {
          "output_type": "stream",
          "text": [
            "INFO:tensorflow:*** Available Device: _DeviceAttributes(/job:worker/replica:0/task:0/device:XLA_CPU:0, XLA_CPU, 0, 0)\n"
          ],
          "name": "stdout"
        },
        {
          "output_type": "stream",
          "text": [
            "INFO:tensorflow:*** Available Device: _DeviceAttributes(/job:worker/replica:0/task:0/device:XLA_CPU:0, XLA_CPU, 0, 0)\n"
          ],
          "name": "stderr"
        }
      ]
    },
    {
      "cell_type": "markdown",
      "metadata": {
        "id": "6IZhfCqgG6aE"
      },
      "source": [
        "# Implementar el modelo usando \"tpu_strategy\""
      ]
    },
    {
      "cell_type": "code",
      "metadata": {
        "colab": {
          "base_uri": "https://localhost:8080/"
        },
        "id": "R85M-sS7HCNc",
        "outputId": "131e1ad0-d2b5-4753-b888-116fbe04b7a3"
      },
      "source": [
        "tf.random.set_seed(200)\r\n",
        "\r\n",
        "with tpu_strategy.scope():\r\n",
        "\r\n",
        "  modelo = tf.keras.models.Sequential()\r\n",
        "\r\n",
        "  modelo.add(tf.keras.layers.BatchNormalization(input_shape=X_train.shape[1:]))\r\n",
        "  modelo.add(tf.keras.layers.Conv2D(64, (5,5), padding='same', activation='elu'))\r\n",
        "  modelo.add(tf.keras.layers.MaxPooling2D(pool_size=(2,2), strides=(2,2)))\r\n",
        "  modelo.add(tf.keras.layers.Dropout(0.25))\r\n",
        "\r\n",
        "  modelo.add(tf.keras.layers.BatchNormalization(input_shape=X_train.shape[1:]))\r\n",
        "  modelo.add(tf.keras.layers.Conv2D(128, (5,5), padding='same', activation='elu'))\r\n",
        "  modelo.add(tf.keras.layers.MaxPooling2D(pool_size=(2,2), strides=(2,2)))\r\n",
        "  modelo.add(tf.keras.layers.Dropout(0.25))\r\n",
        "\r\n",
        "  modelo.add(tf.keras.layers.BatchNormalization(input_shape=X_train.shape[1:]))\r\n",
        "  modelo.add(tf.keras.layers.Conv2D(256, (5,5), padding='same', activation='elu'))\r\n",
        "  modelo.add(tf.keras.layers.MaxPooling2D(pool_size=(2,2), strides=(2,2)))\r\n",
        "  modelo.add(tf.keras.layers.Dropout(0.25))\r\n",
        "\r\n",
        "  modelo.add(tf.keras.layers.Flatten())\r\n",
        "  modelo.add(tf.keras.layers.Dense(256))\r\n",
        "  modelo.add(tf.keras.layers.Activation('elu'))\r\n",
        "  modelo.add(tf.keras.layers.Dropout(0.5))\r\n",
        "  modelo.add(tf.keras.layers.Dense(10))\r\n",
        "  modelo.add(tf.keras.layers.Activation('softmax'))\r\n",
        "\r\n",
        "  # Compilar el modelo e imprimir información en pantalla\r\n",
        "  modelo.compile(optimizer='adam',loss='sparse_categorical_crossentropy',metrics=['accuracy'])\r\n",
        "\r\n",
        "  modelo.summary()"
      ],
      "execution_count": null,
      "outputs": [
        {
          "output_type": "stream",
          "text": [
            "Model: \"sequential_1\"\n",
            "_________________________________________________________________\n",
            "Layer (type)                 Output Shape              Param #   \n",
            "=================================================================\n",
            "batch_normalization_3 (Batch (None, 28, 28, 1)         4         \n",
            "_________________________________________________________________\n",
            "conv2d_3 (Conv2D)            (None, 28, 28, 64)        1664      \n",
            "_________________________________________________________________\n",
            "max_pooling2d_3 (MaxPooling2 (None, 14, 14, 64)        0         \n",
            "_________________________________________________________________\n",
            "dropout_4 (Dropout)          (None, 14, 14, 64)        0         \n",
            "_________________________________________________________________\n",
            "batch_normalization_4 (Batch (None, 14, 14, 64)        256       \n",
            "_________________________________________________________________\n",
            "conv2d_4 (Conv2D)            (None, 14, 14, 128)       204928    \n",
            "_________________________________________________________________\n",
            "max_pooling2d_4 (MaxPooling2 (None, 7, 7, 128)         0         \n",
            "_________________________________________________________________\n",
            "dropout_5 (Dropout)          (None, 7, 7, 128)         0         \n",
            "_________________________________________________________________\n",
            "batch_normalization_5 (Batch (None, 7, 7, 128)         512       \n",
            "_________________________________________________________________\n",
            "conv2d_5 (Conv2D)            (None, 7, 7, 256)         819456    \n",
            "_________________________________________________________________\n",
            "max_pooling2d_5 (MaxPooling2 (None, 3, 3, 256)         0         \n",
            "_________________________________________________________________\n",
            "dropout_6 (Dropout)          (None, 3, 3, 256)         0         \n",
            "_________________________________________________________________\n",
            "flatten_1 (Flatten)          (None, 2304)              0         \n",
            "_________________________________________________________________\n",
            "dense_2 (Dense)              (None, 256)               590080    \n",
            "_________________________________________________________________\n",
            "activation_2 (Activation)    (None, 256)               0         \n",
            "_________________________________________________________________\n",
            "dropout_7 (Dropout)          (None, 256)               0         \n",
            "_________________________________________________________________\n",
            "dense_3 (Dense)              (None, 10)                2570      \n",
            "_________________________________________________________________\n",
            "activation_3 (Activation)    (None, 10)                0         \n",
            "=================================================================\n",
            "Total params: 1,619,470\n",
            "Trainable params: 1,619,084\n",
            "Non-trainable params: 386\n",
            "_________________________________________________________________\n"
          ],
          "name": "stdout"
        }
      ]
    },
    {
      "cell_type": "markdown",
      "metadata": {
        "id": "BVLPzrRAIHmW"
      },
      "source": [
        "# Entrenamiento con TPU"
      ]
    },
    {
      "cell_type": "code",
      "metadata": {
        "colab": {
          "base_uri": "https://localhost:8080/"
        },
        "id": "OGXcNiN1IMmZ",
        "outputId": "998dfb5d-2e88-4cd0-c800-50a89cb47ff5"
      },
      "source": [
        "x_train = X_train.astype(np.float32)\r\n",
        "y_train = Y_train.astype(np.float32)\r\n",
        "x_test = X_test.astype(np.float32)\r\n",
        "y_test = Y_test.astype(np.float32)\r\n",
        "\r\n",
        "import timeit\r\n",
        "\r\n",
        "def entrenamiento_tpu():\r\n",
        "  modelo.fit(x_train, y_train, validation_data=(x_test,y_test), batch_size=128, epochs=2, verbose=1)\r\n",
        "  return None\r\n",
        "\r\n",
        "tpu_time = timeit.timeit('entrenamiento_tpu()', number=1, setup='from __main__ import entrenamiento_tpu')"
      ],
      "execution_count": null,
      "outputs": [
        {
          "output_type": "stream",
          "text": [
            "Epoch 1/2\n",
            "468/468 [==============================] - 14s 20ms/step - loss: 1.0603 - accuracy: 0.6981 - val_loss: 0.3837 - val_accuracy: 0.8695\n",
            "Epoch 2/2\n",
            "468/468 [==============================] - 8s 17ms/step - loss: 0.4176 - accuracy: 0.8532 - val_loss: 0.3344 - val_accuracy: 0.8883\n"
          ],
          "name": "stdout"
        }
      ]
    },
    {
      "cell_type": "code",
      "metadata": {
        "colab": {
          "base_uri": "https://localhost:8080/"
        },
        "id": "x9x7Pb6wJLGI",
        "outputId": "6fb5f7e7-f214-4fa4-b1db-c71cbb44683d"
      },
      "source": [
        "print('Tiempo de entrenamiento: ' + str(tpu_time) + ' segundos')"
      ],
      "execution_count": null,
      "outputs": [
        {
          "output_type": "stream",
          "text": [
            "Tiempo de entrenamiento: 24.553538750999905 segundos\n"
          ],
          "name": "stdout"
        }
      ]
    }
  ]
}